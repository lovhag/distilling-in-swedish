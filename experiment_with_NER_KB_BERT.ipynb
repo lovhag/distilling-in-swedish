{
 "metadata": {
  "language_info": {
   "codemirror_mode": {
    "name": "ipython",
    "version": 3
   },
   "file_extension": ".py",
   "mimetype": "text/x-python",
   "name": "python",
   "nbconvert_exporter": "python",
   "pygments_lexer": "ipython3",
   "version": "3.8.6-final"
  },
  "orig_nbformat": 2,
  "kernelspec": {
   "name": "python3",
   "display_name": "Python 3"
  }
 },
 "nbformat": 4,
 "nbformat_minor": 2,
 "cells": [
  {
   "source": [
    "# Experimenting with KB-BERT for NER"
   ],
   "cell_type": "markdown",
   "metadata": {}
  },
  {
   "source": [
    "## Check the basic pipeline"
   ],
   "cell_type": "markdown",
   "metadata": {}
  },
  {
   "cell_type": "code",
   "execution_count": 2,
   "metadata": {},
   "outputs": [],
   "source": [
    "from transformers import pipeline"
   ]
  },
  {
   "cell_type": "code",
   "execution_count": 3,
   "metadata": {},
   "outputs": [
    {
     "output_type": "stream",
     "name": "stderr",
     "text": [
      "Downloading: 100%|██████████| 992/992 [00:00<00:00, 440kB/s]\n",
      "Downloading: 100%|██████████| 499M/499M [00:52<00:00, 9.51MB/s]\n",
      "Downloading: 100%|██████████| 399k/399k [00:00<00:00, 680kB/s]\n",
      "Downloading: 100%|██████████| 2.00/2.00 [00:00<00:00, 521B/s]\n",
      "Downloading: 100%|██████████| 112/112 [00:00<00:00, 50.0kB/s]\n",
      "Downloading: 100%|██████████| 182/182 [00:00<00:00, 55.7kB/s]\n",
      "Downloading: 100%|██████████| 3.00/3.00 [00:00<00:00, 749B/s]\n",
      "Asking to truncate to max_length but no maximum length is provided and the model has no predefined maximum length. Default to no truncation.\n"
     ]
    },
    {
     "output_type": "execute_result",
     "data": {
      "text/plain": [
       "[{'word': 'Idag', 'score': 0.9997400045394897, 'entity': 'TME', 'index': 1},\n",
       " {'word': 'KB', 'score': 0.8388986587524414, 'entity': 'ORG', 'index': 3}]"
      ]
     },
     "metadata": {},
     "execution_count": 3
    }
   ],
   "source": [
    "nlp = pipeline('ner', model='KB/bert-base-swedish-cased-ner', tokenizer='KB/bert-base-swedish-cased-ner')\n",
    "\n",
    "nlp('Idag släpper KB tre språkmodeller.')"
   ]
  },
  {
   "source": [
    "## Utilize the pre-trained model"
   ],
   "cell_type": "markdown",
   "metadata": {}
  },
  {
   "cell_type": "code",
   "execution_count": null,
   "metadata": {},
   "outputs": [],
   "source": [
    "from transformers import AutoModelForTokenClassification, AutoTokenizer\n",
    "import torch "
   ]
  },
  {
   "cell_type": "code",
   "execution_count": 43,
   "metadata": {},
   "outputs": [],
   "source": [
    "tokenizer = AutoTokenizer.from_pretrained('KB/bert-base-swedish-cased-ner')\n",
    "model = AutoModelForTokenClassification.from_pretrained('KB/bert-base-swedish-cased-ner')"
   ]
  },
  {
   "cell_type": "code",
   "execution_count": 44,
   "metadata": {},
   "outputs": [
    {
     "output_type": "execute_result",
     "data": {
      "text/plain": [
       "{0: 'O',\n",
       " 1: 'OBJ',\n",
       " 2: 'TME',\n",
       " 3: 'ORG/PRS',\n",
       " 4: 'OBJ/ORG',\n",
       " 5: 'PRS/WRK',\n",
       " 6: 'WRK',\n",
       " 7: 'LOC',\n",
       " 8: 'ORG',\n",
       " 9: 'PER',\n",
       " 10: 'LOC/PRS',\n",
       " 11: 'LOC/ORG',\n",
       " 12: 'MSR',\n",
       " 13: 'EVN'}"
      ]
     },
     "metadata": {},
     "execution_count": 44
    }
   ],
   "source": [
    "model.config.id2label"
   ]
  },
  {
   "cell_type": "code",
   "execution_count": 45,
   "metadata": {},
   "outputs": [
    {
     "output_type": "stream",
     "name": "stdout",
     "text": [
      "[('[CLS]', 'O'), ('H', 'ORG'), ('&', 'ORG'), ('M', 'ORG'), ('investerar', 'O'), ('i', 'O'), ('miljövän', 'O'), ('##liga', 'O'), ('kläder', 'O'), ('.', 'O'), ('[SEP]', 'O')]\n"
     ]
    }
   ],
   "source": [
    "label_list = model.config.id2label\n",
    "\n",
    "sequence = \"H&M investerar i miljövänliga kläder.\"\n",
    "\n",
    "# Bit of a hack to get the tokens with the special tokens\n",
    "tokens = tokenizer.tokenize(tokenizer.decode(tokenizer.encode(sequence)))\n",
    "inputs = tokenizer.encode(sequence, return_tensors=\"pt\")\n",
    "\n",
    "outputs = model(inputs)[0]\n",
    "predictions = torch.argmax(outputs, dim=2)\n",
    "\n",
    "print([(token, label_list[prediction]) for token, prediction in zip(tokens, predictions[0].tolist())])"
   ]
  },
  {
   "cell_type": "code",
   "execution_count": 46,
   "metadata": {},
   "outputs": [
    {
     "output_type": "execute_result",
     "data": {
      "text/plain": [
       "torch.Size([1, 11, 14])"
      ]
     },
     "metadata": {},
     "execution_count": 46
    }
   ],
   "source": [
    "outputs.shape"
   ]
  }
 ]
}