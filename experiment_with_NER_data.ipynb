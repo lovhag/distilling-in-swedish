{
 "metadata": {
  "language_info": {
   "codemirror_mode": {
    "name": "ipython",
    "version": 3
   },
   "file_extension": ".py",
   "mimetype": "text/x-python",
   "name": "python",
   "nbconvert_exporter": "python",
   "pygments_lexer": "ipython3",
   "version": "3.8.6-final"
  },
  "orig_nbformat": 2,
  "kernelspec": {
   "name": "python3",
   "display_name": "Python 3"
  }
 },
 "nbformat": 4,
 "nbformat_minor": 2,
 "cells": [
  {
   "source": [
    "# EXPERIMENT WITH NER DATA"
   ],
   "cell_type": "markdown",
   "metadata": {}
  },
  {
   "cell_type": "code",
   "execution_count": 1,
   "metadata": {},
   "outputs": [],
   "source": [
    "import xml.etree.ElementTree as ET"
   ]
  },
  {
   "cell_type": "code",
   "execution_count": 2,
   "metadata": {},
   "outputs": [],
   "source": [
    "tree = ET.parse('data/suc3.xml')\n",
    "root = tree.getroot()"
   ]
  },
  {
   "cell_type": "code",
   "execution_count": 7,
   "metadata": {},
   "outputs": [
    {
     "output_type": "execute_result",
     "data": {
      "text/plain": [
       "'corpus'"
      ]
     },
     "metadata": {},
     "execution_count": 7
    }
   ],
   "source": [
    "root.tag"
   ]
  },
  {
   "cell_type": "code",
   "execution_count": 6,
   "metadata": {},
   "outputs": [
    {
     "output_type": "execute_result",
     "data": {
      "text/plain": [
       "{'id': 'suc3'}"
      ]
     },
     "metadata": {},
     "execution_count": 6
    }
   ],
   "source": [
    "root.attrib"
   ]
  },
  {
   "cell_type": "code",
   "execution_count": 24,
   "metadata": {
    "tags": []
   },
   "outputs": [
    {
     "output_type": "stream",
     "name": "stdout",
     "text": [
      "text {'blingbring': '|utplåning:59.251|namnförändring:47.97|medling:32.291|', 'id': 'aa01c', 'lix': '50.84', 'nk': '1.58', 'ovix': '76.88', 'swefn': '|Abandonment:95.654|Destroying:87.097|Relational_political_locales:78.622|'}\nsentence {'_geocontext': '|', 'id': 'e24e30c0-e24d3ca9'}\nw\nI\nw\nsin\nw\nförsta\nw\nreaktion\nw\npå\nw\nSovjetledarens\nw\nvarningar\nw\ndeklarerade\nne\n{'ex': 'ENAMEX', 'name': 'Litauens', 'subtype': 'PPL', 'type': 'LOC'}\nw\npresident\nne\n{'ex': 'ENAMEX', 'name': 'Vytautas Landsbergis', 'subtype': 'HUM', 'type': 'PRS'}\nw\natt\nw\n\"\nw\nnu\nw\navvisar\nne\n{'ex': 'ENAMEX', 'name': 'Gorbatjov', 'subtype': 'HUM', 'type': 'PRS'}\nw\nvår\nw\nutsträckta\nw\nhand\nw\nmed\nw\nextremt\nw\nskarpa\nw\noch\nw\nhämndlystna\nw\nord\nw\n\"\nw\n.\n\ntext {'blingbring': '|parallellism:26.244|surrogat:21.268|hämnd:20.201|', 'id': 'aa01b', 'lix': '42.69', 'nk': '1.34', 'ovix': '69.26', 'swefn': '|Commutative_process:145.429|Reparation:91.927|Colonization:77.23|'}\nsentence {'_geocontext': '|', 'id': 'e243156c-e24badbc'}\nw\nI\nw\nen\nw\nruta\nw\ntalar\nw\nen\nw\nkort\nw\nrad\nw\npå\nw\nryska\nw\nom\nw\natt\nw\ndeportation\nw\nhar\nw\nförekommit\nw\n,\nw\nen\nw\nsifferkombination\nw\nförklarar\nw\ngraden\nw\nav\nw\n\"\nw\nbrottslighet\nw\n\"\nw\n.\nsentence {'_geocontext': '|', 'id': 'e24d782c-e2475603'}\nw\n-\nw\nDels\nw\nhar\nw\nvi\nw\ninget\nw\nindex\nw\natt\nw\ngå\nw\nefter\nw\n,\nw\nvi\nw\nkräver\nw\nalltså\nw\nersättning\nne\n{'ex': 'TIMEX', 'name': 'i 40-talets', 'subtype': 'DAT', 'type': 'TME'}\nw\npenningvärde\nw\n.\nsentence {'_geocontext': '|', 'id': 'e2422226-e249f22b'}\nw\n-\nw\nMen\nw\nen\nw\ndeporterad\nw\nblir\nw\naldrig\nw\nfri\nw\n,\nw\nsäger\nne\n{'ex': 'ENAMEX', 'name': 'Ricardas', 'subtype': 'HUM', 'type': 'PRS'}\nw\noch\nw\ntar\nw\nfram\nw\nsitt\nw\ngamla\nw\npass\nw\n.\n\ntext {'blingbring': '|ovän:22.685|otro:14.514|motståndare:12.857|', 'id': 'aa01a', 'lix': '45.61', 'nk': '1.10', 'ovix': '70.39', 'swefn': '|Delimitation_of_diversity:626.849|Manipulate_into_doing:79.252|Smuggling:73.917|'}\nsentence {'_geocontext': '|', 'id': 'e24f50e4-e245becc'}\nw\nHur\nw\när\nw\ndet\nw\ndå\nw\ni\nne\n{'ex': 'ENAMEX', 'name': 'Mellanöstern', 'subtype': 'PPL', 'type': 'LOC'}\nw\n?\nsentence {'_geocontext': '|', 'id': 'e247a9ce-e2429000'}\nw\n-\nne\n{'ex': 'ENAMEX', 'name': 'Israel', 'subtype': 'PPL', 'type': 'LOC'}\nw\nhar\nw\nockså\nw\nfördelen\nw\nav\nw\natt\nw\nkunna\nw\nskräddarsy\nw\nsina\nw\nvapensystem\nw\n,\nw\nsäger\nne\n{'ex': 'ENAMEX', 'name': 'Don Kerr', 'subtype': 'HUM', 'type': 'PRS'}\nw\n.\nsentence {'_geocontext': '|', 'id': 'e24b6272-e242ee7f'}\nw\nOch\nw\ndet\nw\när\nw\nsom\nw\nsegerherre\nw\nhan\nw\nvill\nw\ngöra\nw\npolitik\nw\n.\n\n"
     ]
    }
   ],
   "source": [
    "max_nbr_iterations = 1\n",
    "i = 0\n",
    "for child in root:\n",
    "    print(child.tag, child.attrib)\n",
    "    for child_child in child:\n",
    "        print(child_child.tag, child_child.attrib)\n",
    "        for child_child_child in child_child:\n",
    "            #print(child_child_child.tag, child_child_child.attrib)\n",
    "            print(child_child_child.tag)\n",
    "            if child_child_child.tag == \"ne\":\n",
    "                print(child_child_child.attrib)\n",
    "            else:\n",
    "                print(child_child_child.text)\n",
    "    print(\"\")\n",
    "    #break\n",
    "    i += 1\n",
    "    if i >=max_nbr_iterations:\n",
    "        break"
   ]
  },
  {
   "cell_type": "code",
   "execution_count": 32,
   "metadata": {},
   "outputs": [
    {
     "output_type": "stream",
     "name": "stdout",
     "text": [
      "I\nsin\nförsta\nreaktion\npå\nSovjetledarens\nvarningar\ndeklarerade\nLitauens (LOC)\npresident\nVytautas Landsbergis (PRS)\natt\n\"\nnu\navvisar\nGorbatjov (PRS)\nvår\nutsträckta\nhand\nmed\nextremt\nskarpa\noch\nhämndlystna\nord\n\"\n.\nI\nen\nruta\ntalar\nen\nkort\nrad\npå\nryska\nom\natt\ndeportation\nhar\nförekommit\n,\nen\nsifferkombination\nförklarar\ngraden\nav\n\"\nbrottslighet\n\"\n.\n"
     ]
    }
   ],
   "source": [
    "max_iter = 2\n",
    "i = 0\n",
    "for sentence in root.findall(\"./text/sentence\"):\n",
    "    for child in sentence:\n",
    "        if child.tag == \"w\":\n",
    "            print(child.text)\n",
    "        elif child.tag == \"ne\":\n",
    "            print(f\"{child.attrib['name']} ({child.attrib['type']})\")\n",
    "        else:\n",
    "            print(f\"ERROR: {child.tag} unknown\")\n",
    "    i +=1 \n",
    "    if i>=max_iter:\n",
    "        break"
   ]
  }
 ]
}